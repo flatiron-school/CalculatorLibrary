{
 "cells": [
  {
   "cell_type": "markdown",
   "id": "b128cd46",
   "metadata": {},
   "source": [
    "# Calculator Testing"
   ]
  },
  {
   "cell_type": "code",
   "execution_count": 1,
   "id": "e4d5a6b6",
   "metadata": {},
   "outputs": [],
   "source": [
    "%load_ext autoreload\n",
    "%autoreload 2"
   ]
  },
  {
   "cell_type": "markdown",
   "id": "fb829159",
   "metadata": {},
   "source": [
    "This notebook follows the steps outlined in [this resource](https://realpython.com/python-continuous-integration/).\n",
    "\n",
    "We've built a simple calculator, and we're now adding tests to check our code."
   ]
  },
  {
   "cell_type": "markdown",
   "id": "b668f4dd",
   "metadata": {},
   "source": [
    "## `flake8`"
   ]
  },
  {
   "cell_type": "markdown",
   "id": "a9ea2cdf",
   "metadata": {},
   "source": [
    "`flake8` tests for PEP8 standardization of Python code."
   ]
  },
  {
   "cell_type": "markdown",
   "id": "0585e687",
   "metadata": {},
   "source": [
    "Our code looks like this:\n",
    "\n",
    "```python\n",
    "\n",
    "\"\"\"\n",
    "Calculator library containing basic math operations.\n",
    "\"\"\"\n",
    "\n",
    "def add(first_term, second_term):\n",
    "    return first_term + second_term\n",
    "\n",
    "def subtract(first_term, second_term):\n",
    "    return first_term - second_term\n",
    "\n",
    "```\n",
    "\n",
    "Because of some spacing issues, our linter is going to find exceptions."
   ]
  },
  {
   "cell_type": "code",
   "execution_count": 2,
   "id": "2769120a",
   "metadata": {},
   "outputs": [
    {
     "name": "stdout",
     "output_type": "stream",
     "text": [
      "\u001b[1m./calculator.py\u001b[m\u001b[36m:\u001b[m5\u001b[36m:\u001b[m1\u001b[36m:\u001b[m \u001b[1m\u001b[31mE302\u001b[m expected 2 blank lines, found 1\r\n",
      "\u001b[1m./calculator.py\u001b[m\u001b[36m:\u001b[m8\u001b[36m:\u001b[m1\u001b[36m:\u001b[m \u001b[1m\u001b[31mE302\u001b[m expected 2 blank lines, found 1\r\n",
      "2     E302 expected 2 blank lines, found 1\r\n"
     ]
    }
   ],
   "source": [
    "!flake8 --statistics"
   ]
  },
  {
   "cell_type": "markdown",
   "id": "27bcba8d",
   "metadata": {},
   "source": [
    "`flake8` is telling us that PEP8 requires two blank lines in front of function definitions. So we fix that now and then rerun our linter."
   ]
  },
  {
   "cell_type": "markdown",
   "id": "dae9e786",
   "metadata": {},
   "source": [
    "Corrected:\n",
    "\n",
    "```python\n",
    "\n",
    "\"\"\"\n",
    "Calculator library containing basic math operations.\n",
    "\"\"\"\n",
    "\n",
    "\n",
    "def add(first_term, second_term):\n",
    "    return first_term + second_term\n",
    "\n",
    "\n",
    "def subtract(first_term, second_term):\n",
    "    return first_term - second_term\n",
    "\n",
    "```"
   ]
  },
  {
   "cell_type": "code",
   "execution_count": 3,
   "id": "8af91c96",
   "metadata": {},
   "outputs": [],
   "source": [
    "!flake8 --statistics"
   ]
  },
  {
   "cell_type": "markdown",
   "id": "521f2cea",
   "metadata": {},
   "source": [
    "`pytest` will now test our code to see if our arithmetic functions work as expected."
   ]
  },
  {
   "cell_type": "markdown",
   "id": "b6742384",
   "metadata": {},
   "source": [
    "Our tests look like this:\n",
    "\n",
    "```python\n",
    "\n",
    "\"\"\"\n",
    "Unit tests for the calculator library\n",
    "\"\"\"\n",
    "\n",
    "import calculator\n",
    "\n",
    "\n",
    "class TestCalculator:\n",
    "\n",
    "    def test_addition(self):\n",
    "        assert 4 == calculator.add(2, 2)\n",
    "\n",
    "    def test_subtraction(self):\n",
    "        assert 2 == calculator.subtract(4, 2)\n",
    "```"
   ]
  },
  {
   "cell_type": "code",
   "execution_count": 4,
   "id": "d50f8507",
   "metadata": {},
   "outputs": [
    {
     "name": "stdout",
     "output_type": "stream",
     "text": [
      "\u001b[1m============================= test session starts ==============================\u001b[0m\n",
      "platform darwin -- Python 3.8.13, pytest-7.2.0, pluggy-1.0.0 -- /Users/gadamico/opt/anaconda3/envs/joblib/bin/python3.8\n",
      "cachedir: .pytest_cache\n",
      "rootdir: /Users/gadamico/Flatiron/Projects/HSBC/cicd_pipes/CalculatorLibrary\n",
      "plugins: cov-4.0.0, anyio-3.6.2\n",
      "collected 0 items                                                              \u001b[0m\n",
      "\n",
      "\n",
      "---------- coverage: platform darwin, python 3.8.13-final-0 ----------\n",
      "Name                 Stmts   Miss  Cover\n",
      "----------------------------------------\n",
      "test_calculator.py       0      0   100%\n",
      "----------------------------------------\n",
      "TOTAL                    0      0   100%\n",
      "\n",
      "\u001b[33m============================ \u001b[33mno tests ran\u001b[0m\u001b[33m in 0.04s\u001b[0m\u001b[33m =============================\u001b[0m\n"
     ]
    }
   ],
   "source": [
    "!pytest -v --cov"
   ]
  },
  {
   "cell_type": "code",
   "execution_count": null,
   "id": "742431ab",
   "metadata": {},
   "outputs": [],
   "source": []
  }
 ],
 "metadata": {
  "kernelspec": {
   "display_name": "joblib",
   "language": "python",
   "name": "joblib"
  },
  "language_info": {
   "codemirror_mode": {
    "name": "ipython",
    "version": 3
   },
   "file_extension": ".py",
   "mimetype": "text/x-python",
   "name": "python",
   "nbconvert_exporter": "python",
   "pygments_lexer": "ipython3",
   "version": "3.9.12"
  }
 },
 "nbformat": 4,
 "nbformat_minor": 5
}
